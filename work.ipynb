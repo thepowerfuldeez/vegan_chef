{
 "cells": [
  {
   "cell_type": "code",
   "execution_count": 7,
   "metadata": {
    "ExecuteTime": {
     "end_time": "2019-06-02T22:05:20.336857Z",
     "start_time": "2019-06-02T22:05:20.260391Z"
    }
   },
   "outputs": [],
   "source": [
    "from config import VK_TOKEN\n",
    "\n",
    "import tqdm\n",
    "import json\n",
    "import vk_api\n",
    "import re\n",
    "from fuzzywuzzy import process"
   ]
  },
  {
   "cell_type": "code",
   "execution_count": 2,
   "metadata": {
    "ExecuteTime": {
     "end_time": "2019-06-02T22:04:48.555590Z",
     "start_time": "2019-06-02T22:04:48.459609Z"
    }
   },
   "outputs": [],
   "source": [
    "vk_session = vk_api.VkApi(token=VK_TOKEN, app_id=5820017)\n",
    "vk_session._auth_token()\n",
    "\n",
    "vk = vk_session.get_api()"
   ]
  },
  {
   "cell_type": "code",
   "execution_count": 3,
   "metadata": {
    "ExecuteTime": {
     "end_time": "2019-06-02T22:04:50.285295Z",
     "start_time": "2019-06-02T22:04:50.281900Z"
    }
   },
   "outputs": [],
   "source": [
    "tools = vk_api.VkTools(vk_session)"
   ]
  },
  {
   "cell_type": "code",
   "execution_count": 4,
   "metadata": {
    "ExecuteTime": {
     "end_time": "2019-06-02T22:04:50.597957Z",
     "start_time": "2019-06-02T22:04:50.593661Z"
    }
   },
   "outputs": [],
   "source": [
    "vegan_recipes = tools.get_all_iter(\"wall.search\", 20, \n",
    "                                   values={\"owner_id\": -35838585, \"query\": \"#vegan\", \"owners_only\": True})"
   ]
  },
  {
   "cell_type": "code",
   "execution_count": 6,
   "metadata": {
    "ExecuteTime": {
     "end_time": "2019-06-02T22:05:10.115361Z",
     "start_time": "2019-06-02T22:05:09.920315Z"
    }
   },
   "outputs": [],
   "source": [
    "# downloaded_vegan_recipes = []\n",
    "# for recipe in tqdm.tqdm(vegan_recipes):\n",
    "#     downloaded_vegan_recipes.append(recipe)\n",
    "# json.dump(downloaded_vegan_recipes, open(\"assets/downloaded_vegan_recipes.json\", \"w\"))\n",
    "downloaded_vegan_recipes = json.load(open(\"assets/downloaded_vegan_recipes.json\"))"
   ]
  },
  {
   "cell_type": "code",
   "execution_count": 8,
   "metadata": {
    "ExecuteTime": {
     "end_time": "2019-06-02T22:05:23.207619Z",
     "start_time": "2019-06-02T22:05:23.194572Z"
    }
   },
   "outputs": [],
   "source": [
    "def process_recipe(recipe):\n",
    "    tokens = recipe['text'].split()\n",
    "    # best occurence of fuzzed ингредиент word\n",
    "    ingr_word = process.extractOne(\"ингредиент\", tokens)[0]\n",
    "    ingr_idx = recipe['text'].index(ingr_word)\n",
    "    # best occurence of fuzzed приготовление word\n",
    "    prigot_word = process.extractOne(\"приготовление\", tokens)[0]\n",
    "    prigot_idx = recipe['text'].index(prigot_word)\n",
    "    \n",
    "    name = recipe['text'][:ingr_idx].strip()\n",
    "    name, *description = name.rsplit(\"\\n\")\n",
    "    description = \"\\n\".join(description).strip()\n",
    "    ingredients = recipe['text'][ingr_idx+len(ingr_word):prigot_idx].split(\"\\n\")\n",
    "    ingredients = [it.strip() for it in ingredients if it.strip()]\n",
    "    script = recipe['text'][prigot_idx+len(prigot_word):].split(\"\\n\")\n",
    "    script = [it.strip() for it in script if it.strip()]\n",
    "    return name, description, ingredients, script"
   ]
  },
  {
   "cell_type": "code",
   "execution_count": 9,
   "metadata": {
    "ExecuteTime": {
     "end_time": "2019-06-02T22:05:30.079653Z",
     "start_time": "2019-06-02T22:05:30.055924Z"
    }
   },
   "outputs": [
    {
     "name": "stdout",
     "output_type": "stream",
     "text": [
      "название Салат с цветной капустой и горчичной заправкой\n",
      "описание \n",
      "игредиенты ['(на 4-6 порций):', 'Для салата:', '1 кочан цветной капусты, нарезанный на соцветия', '1 ст. нарезанного огурца', '1 ст. нарезанных помидоров', '1\\\\4 ст. нарезанного зелёного лука', 'Поместите все ингредиенты в миску, перемешайте.', 'Для заправки:', '1\\\\2 ст. кешью, предварительно замоченных в воде', '1\\\\2 ст. воды', '1 размоченный финик', '1 ч.л. сухого горчичного порошка', '2 ст.л. кокосового масла', '1-2 ст.л. укропа', 'сок и цедра 1\\\\2 лимона', '2 измельчённых зубчика чеснока', 'соль и перец по вкусу', '1\\\\2 ст. нарезанных грецких орехов']\n",
      "приготовление ['Поместите все ингредиенты, кроме укропа, чеснока, соли и перца в блендер. Взбейте до однородной консистенции. Добавьте оставшиеся цедру, укроп, чеснок, соль и перец. Взбейте ещё несколько раз. Вылейте поверх овощей, присыпьте орешками.', 'Приятного аппетита!', '#салаты@vegarecipes #веган@vegarecipes #vegan@vegarecipes #ПП@vegarecipes']\n"
     ]
    }
   ],
   "source": [
    "for recipe in downloaded_vegan_recipes[5:6]:\n",
    "    name, description, ingredients, script = process_recipe(recipe)\n",
    "    print(\"название\", name)\n",
    "    print(\"описание\", description)\n",
    "    print(\"игредиенты\", ingredients)\n",
    "    print(\"приготовление\", script)"
   ]
  },
  {
   "cell_type": "code",
   "execution_count": 10,
   "metadata": {
    "ExecuteTime": {
     "end_time": "2019-06-02T22:05:39.050349Z",
     "start_time": "2019-06-02T22:05:39.043093Z"
    }
   },
   "outputs": [],
   "source": [
    "different_measures = {\n",
    "    \"щеп(отк(а|у|и))?\": 2,\n",
    "    \"ч\\.\\s?л\": 5,\n",
    "    \"ст\\.\\s?л\": 15,\n",
    "    \"((ч(айн)?|ст)(олов)?\\.?(ые|ых|ая|ой)?)?\\s?ложе?к(а|и)?\": 5,\n",
    "    \"гр?(амм)?\": 1, \n",
    "    \"зуб(к|чик)?\\.?(а|ов)?\": 5,\n",
    "    \"головк(а|и)\": 5,\n",
    "    \"шт(ук(а|и)?)?\": None,\n",
    "    \"кусоч\\.?(ка|ек)?\": None,\n",
    "    \"веточк(а|и)\": 2,\n",
    "    \"кружк(а|и)?\": 200,\n",
    "    \"чашк(а|и)?\": 200,\n",
    "    \"ст(ак)?\\.?(ан|ана)?\": 200,\n",
    "    \"банк(а|и)?\": 300,\n",
    "    \"ломтик(а|и|ов)?\": None,\n",
    "    \"стеб(л(я|ей|евой)|ель(ка)?|)\": None,\n",
    "    \"струч(ок|к(а|ов))\": None,\n",
    "    \"пуч(ок)?\": 50,\n",
    "    \"килограмм\": 1000,\n",
    "    \"кг\": 1000,\n",
    "    \"по( |\\-)вкусу\": 10,\n",
    "    \"лист(ы|ья|а|ьев|ов|ик(а|ов)?|очк(а|ов|и)?)\": 3, \n",
    "    \"с?м\": None,\n",
    "    \"коч(ан)?\": 1000,\n",
    "    \"м?л\": None\n",
    "}\n",
    "digit_pattern = \"\\d+((,|\\.)?\\d*)?\"\n",
    "number_pattern = f\"(\\d*\\s*(½|¼|⅔|⅛|⅓)|{digit_pattern}(\\/|\\\\|\\\\\\\\|-)?({digit_pattern})*)\"  # group1\n",
    "measures_pattern = f\"({'|'.join(different_measures)})\""
   ]
  },
  {
   "cell_type": "code",
   "execution_count": 14,
   "metadata": {
    "ExecuteTime": {
     "end_time": "2019-06-02T22:07:19.899242Z",
     "start_time": "2019-06-02T22:07:19.886077Z"
    }
   },
   "outputs": [],
   "source": [
    "re_pattern = re.compile(f\"({number_pattern}\\s*{measures_pattern}+\\.?(?!\\S)|{measures_pattern}\\.?)\")"
   ]
  },
  {
   "cell_type": "code",
   "execution_count": 15,
   "metadata": {
    "ExecuteTime": {
     "end_time": "2019-06-02T22:07:21.614141Z",
     "start_time": "2019-06-02T22:07:21.608122Z"
    }
   },
   "outputs": [],
   "source": [
    "def parse_number(str_num):\n",
    "    if \"-\" in str_num:\n",
    "        str_num = str_num.split(\"-\")[-1]\n",
    "    str_num = str_num.replace(\",\", \".\").replace(\" \", \"\")\n",
    "    str_num = str_num.replace(\"\\\\\", \"/\").replace(\"\\\\\\\\\", \"/\")\n",
    "    str_num = str_num.replace(\"½\", \"+0.5\").replace(\"¼\", \"+0.25\").replace(\"⅔\", \"+0.66\").replace(\"⅛\", \"+0.13\").replace(\"⅓\", \"+0.33\")\n",
    "    return eval(str_num)"
   ]
  },
  {
   "cell_type": "code",
   "execution_count": 16,
   "metadata": {
    "ExecuteTime": {
     "end_time": "2019-06-02T22:07:23.649997Z",
     "start_time": "2019-06-02T22:07:23.645321Z"
    }
   },
   "outputs": [],
   "source": [
    "def parse_measure(str_measure, different_measures):\n",
    "    group_measures_pattern = \"|\".join([f\"({p})\" for p in different_measures])\n",
    "    for p, v in different_measures.items():\n",
    "        match = re.search(p, str_measure)\n",
    "        if match:\n",
    "            return v"
   ]
  },
  {
   "cell_type": "code",
   "execution_count": 21,
   "metadata": {
    "ExecuteTime": {
     "end_time": "2019-06-02T22:08:01.437698Z",
     "start_time": "2019-06-02T22:08:00.934680Z"
    },
    "scrolled": false
   },
   "outputs": [
    {
     "name": "stdout",
     "output_type": "stream",
     "text": [
      "\n",
      "\n",
      "\n",
      "\n",
      "\n",
      "\n",
      "\n",
      "РОЛЛЫ ИЗ СУХОФРУКТОВ ['грецкий орех', 'чернослив', 'финики', 'кокосовая стружка']\n",
      "\n",
      "\n",
      "\n",
      "\n",
      "\n",
      "Луковые лепешки на минеральной воде (постные) [{'газированная вода': None}, {'мука': 350}, {'сахар': 15}, {'соль': 5}, {'сухие дрожжи': 5}, {'растительное масло': 45}, {'лук': None}, {'кунжут': 30}]\n",
      "Рис с кабачками и баклажанами в мультиварке [{'риса': 100}, {'воды': None}, ('луковица', 1), {'томатного соуса или пасты': 15}, {'кабачка': 200}, {'баклажана': 200}, 'соль', 'растительное масло']\n",
      "\n",
      "Картофельный рулет с грибами. [{'картофель': 400}, {'мука': 300}, {'грибы': 300}, {'лук': None}, {'растительное масло': 70}, {'томатная паста': 30}, {'соль': 5}, {'сахар': 5}, {'сухие прованские травы': 5}, {'кипяченая вода': None}, {'укроп': 50}]\n",
      "\n",
      "\n",
      "\n",
      "100.00% successful matches\n"
     ]
    }
   ],
   "source": [
    "n_recipes = 0\n",
    "n_success = 0\n",
    "for recipe in downloaded_vegan_recipes[5:25]:\n",
    "    try:\n",
    "        name, description, ingredients, script = process_recipe(recipe)\n",
    "        processed_ingredients = []\n",
    "        for ingr in ingredients:\n",
    "    #         normalized = \" \".join([analyzer.parse(w)[0].normal_form for w in ingr.split()])\n",
    "            ingr = ingr.replace(\";\", \" \").replace(\":\", \" \").replace(\")\", \" \").replace(\"(\", \" \").lower().strip()\n",
    "            if ingr and ingr[-1] == \",\":\n",
    "                ingr = ingr[:-1]\n",
    "            matches = re.finditer(re_pattern, ingr)\n",
    "            ingr_cp = ingr\n",
    "            split_word_indices = []\n",
    "            prev_index = 0\n",
    "            for w in ingr.split():\n",
    "                ind = ingr_cp.index(w, prev_index)\n",
    "                split_word_indices.append((ind-1, ind+len(w)))\n",
    "                prev_index = ind+len(w)\n",
    "            ingr_matches = []\n",
    "            for m in matches:\n",
    "                indices = m.span()\n",
    "                for split_word_ind in split_word_indices:\n",
    "                    if split_word_ind[1] > indices[1] and split_word_ind[0] < indices[0]:\n",
    "                        break\n",
    "                else:\n",
    "                    ingr_matches.append(indices)\n",
    "            \n",
    "            if not len(ingr_matches):\n",
    "                food_ingr_match = re.search(\"[а-яА-Я\\s]+\", ingr)\n",
    "                number_match = re.search(number_pattern, ingr)\n",
    "                if food_ingr_match:\n",
    "                    ingr = food_ingr_match.group()\n",
    "                ingr = ingr.strip()\n",
    "                if number_match:\n",
    "                    number = parse_number(number_match.group())\n",
    "                    if len(ingr):\n",
    "                        processed_ingredients.append((ingr, number))\n",
    "                else:\n",
    "                    if len(ingr):\n",
    "                        processed_ingredients.append(ingr)\n",
    "            else:\n",
    "                parsed_ingr_matches = {}\n",
    "                for ind in ingr_matches:\n",
    "                    ingr_match = ingr[ind[0]:ind[1]]\n",
    "                    number_ind = next(re.finditer(number_pattern, ingr_match)).span()\n",
    "                    number = ingr_match[number_ind[0]:number_ind[1]].strip()\n",
    "                    number = parse_number(number)\n",
    "                    measure = ingr_match[:number_ind[0]] + ingr_match[number_ind[1]:].strip()\n",
    "                    measure_grams = parse_measure(measure, different_measures)\n",
    "                    if measure_grams:\n",
    "                        total_grams = number * measure_grams\n",
    "                    else:\n",
    "                        total_grams = None\n",
    "                    food_ingr = ingr[:ind[0]] + ingr[ind[1]:]\n",
    "                    food_ingr_match = re.search(\"[а-яА-Я\\s]+\", food_ingr)\n",
    "                    if food_ingr_match:\n",
    "                        food_ingr = food_ingr_match.group()\n",
    "                    food_ingr = food_ingr.strip()\n",
    "                    if len(food_ingr):\n",
    "                        parsed_ingr_matches[food_ingr] = total_grams\n",
    "                processed_ingredients.append(parsed_ingr_matches)\n",
    "        if name and processed_ingredients:\n",
    "            print(name, processed_ingredients)\n",
    "            n_success += 1\n",
    "        else:\n",
    "            pass\n",
    "        n_recipes += 1\n",
    "    except Exception as e:\n",
    "        print(e)\n",
    "#         print(recipe['text'])\n",
    "print(f\"{n_success/n_recipes:.2%} successful matches\")"
   ]
  }
 ],
 "metadata": {
  "kernelspec": {
   "display_name": "Python 3",
   "language": "python",
   "name": "python3"
  },
  "language_info": {
   "codemirror_mode": {
    "name": "ipython",
    "version": 3
   },
   "file_extension": ".py",
   "mimetype": "text/x-python",
   "name": "python",
   "nbconvert_exporter": "python",
   "pygments_lexer": "ipython3",
   "version": "3.7.2"
  },
  "varInspector": {
   "cols": {
    "lenName": 16,
    "lenType": 16,
    "lenVar": 40
   },
   "kernels_config": {
    "python": {
     "delete_cmd_postfix": "",
     "delete_cmd_prefix": "del ",
     "library": "var_list.py",
     "varRefreshCmd": "print(var_dic_list())"
    },
    "r": {
     "delete_cmd_postfix": ") ",
     "delete_cmd_prefix": "rm(",
     "library": "var_list.r",
     "varRefreshCmd": "cat(var_dic_list()) "
    }
   },
   "types_to_exclude": [
    "module",
    "function",
    "builtin_function_or_method",
    "instance",
    "_Feature"
   ],
   "window_display": false
  }
 },
 "nbformat": 4,
 "nbformat_minor": 2
}
