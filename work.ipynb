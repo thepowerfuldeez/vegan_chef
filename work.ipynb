{
 "cells": [
  {
   "cell_type": "code",
   "execution_count": 1,
   "metadata": {
    "ExecuteTime": {
     "end_time": "2019-06-02T22:05:20.336857Z",
     "start_time": "2019-06-02T22:05:20.260391Z"
    }
   },
   "outputs": [],
   "source": [
    "from config import VK_TOKEN\n",
    "\n",
    "import tqdm\n",
    "import json\n",
    "import vk_api\n",
    "import re\n",
    "from fuzzywuzzy import process"
   ]
  },
  {
   "cell_type": "code",
   "execution_count": 2,
   "metadata": {
    "ExecuteTime": {
     "end_time": "2019-06-02T22:04:48.555590Z",
     "start_time": "2019-06-02T22:04:48.459609Z"
    }
   },
   "outputs": [],
   "source": [
    "vk_session = vk_api.VkApi(token=VK_TOKEN, app_id=5820017)\n",
    "vk_session._auth_token()\n",
    "\n",
    "vk = vk_session.get_api()"
   ]
  },
  {
   "cell_type": "code",
   "execution_count": 3,
   "metadata": {
    "ExecuteTime": {
     "end_time": "2019-06-02T22:04:50.285295Z",
     "start_time": "2019-06-02T22:04:50.281900Z"
    }
   },
   "outputs": [],
   "source": [
    "tools = vk_api.VkTools(vk_session)"
   ]
  },
  {
   "cell_type": "code",
   "execution_count": 10,
   "metadata": {
    "ExecuteTime": {
     "end_time": "2019-06-02T22:04:50.597957Z",
     "start_time": "2019-06-02T22:04:50.593661Z"
    }
   },
   "outputs": [],
   "source": [
    "vegan_recipes = tools.get_all_iter(\"wall.search\", 20, \n",
    "                                   values={\"owner_id\": -35838585, \"query\": \"#vegan\", \"owners_only\": True})"
   ]
  },
  {
   "cell_type": "code",
   "execution_count": 4,
   "metadata": {
    "ExecuteTime": {
     "end_time": "2019-06-02T22:05:10.115361Z",
     "start_time": "2019-06-02T22:05:09.920315Z"
    }
   },
   "outputs": [],
   "source": [
    "# downloaded_vegan_recipes = []\n",
    "# for recipe in tqdm.tqdm(vegan_recipes):\n",
    "#     downloaded_vegan_recipes.append(recipe)\n",
    "# json.dump(downloaded_vegan_recipes, open(\"assets/downloaded_vegan_recipes.json\", \"w\"))\n",
    "downloaded_vegan_recipes = json.load(open(\"assets/downloaded_vegan_recipes.json\"))"
   ]
  },
  {
   "cell_type": "code",
   "execution_count": 74,
   "metadata": {
    "ExecuteTime": {
     "end_time": "2019-06-02T22:05:23.207619Z",
     "start_time": "2019-06-02T22:05:23.194572Z"
    }
   },
   "outputs": [],
   "source": [
    "def process_recipe(recipe):\n",
    "    tokens = recipe['text'].lower().split()\n",
    "    if not tokens:\n",
    "        return None\n",
    "    # best occurence of fuzzed ингредиент word\n",
    "    ingr_word = process.extractOne(\"ингредиент\", tokens)[0]\n",
    "    ingr_idx = recipe['text'].lower().index(ingr_word)\n",
    "    # best occurence of fuzzed приготовление word\n",
    "    prigot_word = process.extractOne(\"приготовление\", tokens)[0]\n",
    "    prigot_idx = recipe['text'].lower().index(prigot_word)\n",
    "    \n",
    "    name = recipe['text'][:ingr_idx].strip()\n",
    "    name, *description = name.rsplit(\"\\n\")\n",
    "    description = \"\\n\".join(description).strip()\n",
    "    ingredients = recipe['text'][ingr_idx+len(ingr_word):prigot_idx].split(\"\\n\")\n",
    "    ingredients = [it.strip() for it in ingredients if it.strip()]\n",
    "    script = recipe['text'][prigot_idx+len(prigot_word):].split(\"\\n\")\n",
    "    script = [it.strip() for it in script if it.strip()]\n",
    "    return name, description, ingredients, script"
   ]
  },
  {
   "cell_type": "code",
   "execution_count": 65,
   "metadata": {
    "ExecuteTime": {
     "end_time": "2019-06-02T22:05:30.079653Z",
     "start_time": "2019-06-02T22:05:30.055924Z"
    }
   },
   "outputs": [
    {
     "name": "stdout",
     "output_type": "stream",
     "text": [
      "название ФРУКТОВЫЙ ДЕСЕРТ НА АГАР-АГАРЕ\n",
      "описание \n",
      "игредиенты ['• 400 мл сока/компота/морса', '• 1 стакан черной смородины (клубника, голубика, черника)', '• 1 стакан черешни/вишни без косточек', '• 1 небольшое яблоко', '• 2 ч. л. агар-агара']\n",
      "приготовление ['1. Смешайте агар-агар с 200 мл сока, дайте постоять 5 минут.', '2. Нарежьте фрукты и уложите их вместе с ягодами в глубокую прямоугольную форму слоями. Нижний слой будет верхушкой десерта. Старайтесь оставлять место между ягодами, чтобы было потом куда выливать желе. Если форма силиконовая - оставьте как есть, если керамическая или стеклянная - проложите пищевой пленкой, чтобы было удобнее потом извлекать готовый десерт.', '3. Поставьте на огонь смесь сока и агар-агара, доведите до кипения, влейте остаток сока и дайте покипеть 2–3 минуты. Периодически мешайте смесь, чтобы агар-агар растворился.', '4. Снимите с огня, дайте остыть буквально 5 минут и залейте ягоды. Как правило, желе застывает само при комнатной температуре, но лучше поставить его в холодильник на 30–40 мин.', '5. Готовый десерт можно достать, легонько подцепив края ножиком и потянув за пищевую пленку. Если форма силиконовая - достаточно надавить на края, и желе легко выйдет из формы само.', 'Приятного аппетита!', '#десерты@vegarecipes #веган@vegarecipes #vegan@vegarecipes']\n"
     ]
    }
   ],
   "source": [
    "for recipe in downloaded_vegan_recipes[5:6]:\n",
    "    name, description, ingredients, script = process_recipe(recipe)\n",
    "    print(\"название\", name)\n",
    "    print(\"описание\", description)\n",
    "    print(\"игредиенты\", ingredients)\n",
    "    print(\"приготовление\", script)"
   ]
  },
  {
   "cell_type": "code",
   "execution_count": 66,
   "metadata": {
    "ExecuteTime": {
     "end_time": "2019-06-02T22:05:39.050349Z",
     "start_time": "2019-06-02T22:05:39.043093Z"
    }
   },
   "outputs": [],
   "source": [
    "different_measures = {\n",
    "    \"щеп(отк(а|у|и))?\": 2,\n",
    "    \"ч\\.\\s?л\": 5,\n",
    "    \"ст\\.\\s?л\": 15,\n",
    "    \"((ч(айн)?|ст)(олов)?\\.?(ые|ых|ая|ой)?)?\\s?ложе?к(а|и)?\": 5,\n",
    "    \"гр?(амм)?\": 1, \n",
    "    \"зуб(к|чик)?\\.?(а|ов)?\": 5,\n",
    "    \"головк(а|и)\": 5,\n",
    "    \"шт(ук(а|и)?)?\": None,\n",
    "    \"кусоч\\.?(ка|ек)?\": None,\n",
    "    \"веточк(а|и)\": 2,\n",
    "    \"кружк(а|и)?\": 200,\n",
    "    \"чашк(а|и)?\": 200,\n",
    "    \"ст(ак)?\\.?(ан|ана)?\": 200,\n",
    "    \"банк(а|и)?\": 300,\n",
    "    \"ломтик(а|и|ов)?\": None,\n",
    "    \"стеб(л(я|ей|евой)|ель(ка)?|)\": None,\n",
    "    \"струч(ок|к(а|ов))\": None,\n",
    "    \"пуч(ок)?\": 50,\n",
    "    \"килограмм\": 1000,\n",
    "    \"кг\": 1000,\n",
    "    \"по( |\\-)вкусу\": 10,\n",
    "    \"лист(ы|ья|а|ьев|ов|ик(а|ов)?|очк(а|ов|и)?)\": 3, \n",
    "    \"с?м\": None,\n",
    "    \"коч(ан)?\": 1000,\n",
    "    \"м?л\": None\n",
    "}\n",
    "digit_pattern = \"\\d+((,|\\.)?\\d*)?\"\n",
    "number_pattern = f\"(\\d*\\s*(½|¼|⅔|⅛|⅓)|{digit_pattern}(\\/|\\\\|\\\\\\\\|-)?({digit_pattern})*)\"  # group1\n",
    "measures_pattern = f\"({'|'.join(different_measures)})\""
   ]
  },
  {
   "cell_type": "code",
   "execution_count": 67,
   "metadata": {
    "ExecuteTime": {
     "end_time": "2019-06-02T22:07:19.899242Z",
     "start_time": "2019-06-02T22:07:19.886077Z"
    }
   },
   "outputs": [],
   "source": [
    "re_pattern = re.compile(f\"({number_pattern}\\s*{measures_pattern}+\\.?(?!\\S)|{measures_pattern}\\.?)\")"
   ]
  },
  {
   "cell_type": "code",
   "execution_count": 68,
   "metadata": {
    "ExecuteTime": {
     "end_time": "2019-06-02T22:07:21.614141Z",
     "start_time": "2019-06-02T22:07:21.608122Z"
    }
   },
   "outputs": [],
   "source": [
    "def parse_number(str_num):\n",
    "    if \"-\" in str_num:\n",
    "        str_num = str_num.split(\"-\")[-1]\n",
    "    str_num = str_num.replace(\",\", \".\").replace(\" \", \"\")\n",
    "    str_num = str_num.replace(\"\\\\\", \"/\").replace(\"\\\\\\\\\", \"/\")\n",
    "    str_num = str_num.replace(\"½\", \"+0.5\").replace(\"¼\", \"+0.25\").replace(\"⅔\", \"+0.66\").replace(\"⅛\", \"+0.13\").replace(\"⅓\", \"+0.33\")\n",
    "    return eval(str_num)"
   ]
  },
  {
   "cell_type": "code",
   "execution_count": 69,
   "metadata": {
    "ExecuteTime": {
     "end_time": "2019-06-02T22:07:23.649997Z",
     "start_time": "2019-06-02T22:07:23.645321Z"
    }
   },
   "outputs": [],
   "source": [
    "def parse_measure(str_measure, different_measures):\n",
    "    group_measures_pattern = \"|\".join([f\"({p})\" for p in different_measures])\n",
    "    for p, v in different_measures.items():\n",
    "        match = re.search(p, str_measure)\n",
    "        if match:\n",
    "            return v"
   ]
  },
  {
   "cell_type": "code",
   "execution_count": 70,
   "metadata": {},
   "outputs": [],
   "source": [
    "def get_ingr_re_matches(ingr):\n",
    "    ingr = ingr.replace(\";\", \" \").replace(\":\", \" \").replace(\")\", \" \").replace(\"(\", \" \").lower().strip()\n",
    "    if ingr and ingr[-1] == \",\":\n",
    "        ingr = ingr[:-1]\n",
    "    ingr_cp = ingr\n",
    "    split_word_indices = []\n",
    "    prev_index = 0\n",
    "    for w in ingr.split():\n",
    "        ind = ingr_cp.index(w, prev_index)\n",
    "        split_word_indices.append((ind-1, ind+len(w)))\n",
    "        prev_index = ind+len(w)\n",
    "    ingr_matches = []\n",
    "    matches = re.finditer(re_pattern, ingr)\n",
    "    for m in matches:\n",
    "        indices = m.span()\n",
    "        for split_word_ind in split_word_indices:\n",
    "            if split_word_ind[1] > indices[1] and split_word_ind[0] < indices[0]:\n",
    "                break\n",
    "        else:\n",
    "            ingr_matches.append(indices)\n",
    "    return ingr_matches"
   ]
  },
  {
   "cell_type": "code",
   "execution_count": 79,
   "metadata": {},
   "outputs": [],
   "source": [
    "def clean_ingr_str(ingr, number_pattern):\n",
    "    \"\"\"\n",
    "    Would work if initial search failed\n",
    "    \"\"\"\n",
    "    food_ingr_match = re.search(\"[а-яА-Я\\s]+\", ingr)\n",
    "    number_match = re.search(number_pattern, ingr)\n",
    "    if food_ingr_match:\n",
    "        ingr = food_ingr_match.group()\n",
    "    ingr = ingr.strip()\n",
    "    if number_match:\n",
    "        number = parse_number(number_match.group())\n",
    "        if len(ingr):\n",
    "            return (ingr, number)\n",
    "    else:\n",
    "        if len(ingr):\n",
    "            return (ingr, 1)"
   ]
  },
  {
   "cell_type": "code",
   "execution_count": 82,
   "metadata": {},
   "outputs": [],
   "source": [
    "def parse_ingr_matches(ingr_matches, number_pattern, different_measures):\n",
    "    \"\"\"\n",
    "    Would work if matches were found – they are indices\n",
    "    For each set of indices inject number and other substring\n",
    "    Normalize measure string into grams, get only cyrillic food string\n",
    "    \"\"\"\n",
    "    parsed_ingr_matches = {}\n",
    "    for ind in ingr_matches:\n",
    "        ingr_match = ingr[ind[0]:ind[1]]\n",
    "        number_ind = re.match(number_pattern, ingr_match)\n",
    "        if not number_ind:\n",
    "            continue\n",
    "        number_ind = number_ind.span()\n",
    "        number = ingr_match[number_ind[0]:number_ind[1]].strip()\n",
    "        number = parse_number(number)\n",
    "        measure = ingr_match[:number_ind[0]] + ingr_match[number_ind[1]:].strip()\n",
    "        measure_grams = parse_measure(measure, different_measures)\n",
    "        if measure_grams:\n",
    "            total_grams = number * measure_grams\n",
    "        else:\n",
    "            total_grams = (number, )\n",
    "        food_ingr = ingr[:ind[0]] + ingr[ind[1]:]\n",
    "        food_ingr_match = re.search(\"[а-яА-Я\\s]+\", food_ingr)\n",
    "        if food_ingr_match:\n",
    "            food_ingr = food_ingr_match.group()\n",
    "        food_ingr = food_ingr.strip()\n",
    "        if len(food_ingr):\n",
    "            parsed_ingr_matches[food_ingr] = total_grams\n",
    "    return parsed_ingr_matches"
   ]
  },
  {
   "cell_type": "code",
   "execution_count": 89,
   "metadata": {
    "ExecuteTime": {
     "end_time": "2019-06-02T22:08:01.437698Z",
     "start_time": "2019-06-02T22:08:00.934680Z"
    },
    "scrolled": false
   },
   "outputs": [
    {
     "name": "stdout",
     "output_type": "stream",
     "text": [
      "Вареники с гречкой и картофелем [('Для теста', 1), {'отбеленной пшеничной муки': 400}, {'цельнозерновой муки': 150}, ('кипятка', 450), {'соли': 5}, {'растительного масла': 50.0}, ('Для начинки', 1), {'гречневой крупы': 200}, {'картофеля': 800}, {'растительного масла': 50.0}, ('Для подачи', 1), {'растительного масла': 50.0}, ('консервированные овощи', 1)]\n",
      "Банановые ромбики [('Банан', 1), {'Мука': 800}, {'Мед': 30}, {'Сахар': 200}, {'Сода': 5}]\n",
      "Испанский омлет [{'оливкового масла': 10}, {'картофеля': 300}, {'нутовой муки': 200}, {'воды': 200}]\n",
      "Паста в соусе с баклажаном [('на', 4), {'пасты': 300.0}, ('баклажана', 1), {'нарезанных шампиньонов': 400}, {'соуса маринара': 300.0}, {'воды': 400}, {'морской соли': 10}, {'молотого ч': 5}, {'оливкового масла': 30}, ('на выбор', 1)]\n",
      "Вэрзэре — пироги с капустой  [('Тесто', 1), ('Вода', 100), ('Масло растительное', 100), {'Соль': 2.5}, {'Мука': 400}, ('Начинка', 1), {'Капуста квашеная': 300}, ('Лук репчатый', 1), ('Лук зеленый', 3)]\n",
      "100.00% successful matches\n"
     ]
    }
   ],
   "source": [
    "n_recipes = 0\n",
    "n_success = 0\n",
    "for recipe in downloaded_vegan_recipes[:5]:\n",
    "    processed = process_recipe(recipe)\n",
    "    if not processed:\n",
    "        continue\n",
    "    name, description, ingredients, script = processed\n",
    "    processed_ingredients = []\n",
    "    for ingr in ingredients:\n",
    "        ingr_matches = get_ingr_re_matches(ingr)\n",
    "        if not len(ingr_matches):\n",
    "            ingr = clean_ingr_str(ingr, number_pattern)\n",
    "            if ingr:\n",
    "                processed_ingredients.append(ingr)\n",
    "        else:\n",
    "            parsed_ingr_matches = parse_ingr_matches(ingr_matches, number_pattern, different_measures)\n",
    "            for k, v in parsed_ingr_matches.items():\n",
    "                if isinstance(v, tuple):\n",
    "                    processed_ingredients.append((k, v[0]))\n",
    "                else:\n",
    "                    processed_ingredients.append({k: v})\n",
    "    if name and processed_ingredients:\n",
    "        print(name, processed_ingredients)\n",
    "        n_success += 1\n",
    "    else:\n",
    "        pass\n",
    "    n_recipes += 1\n",
    "print(f\"{n_success/n_recipes:.2%} successful matches\")"
   ]
  },
  {
   "cell_type": "code",
   "execution_count": null,
   "metadata": {},
   "outputs": [],
   "source": []
  }
 ],
 "metadata": {
  "kernelspec": {
   "display_name": "Python 3",
   "language": "python",
   "name": "python3"
  },
  "language_info": {
   "codemirror_mode": {
    "name": "ipython",
    "version": 3
   },
   "file_extension": ".py",
   "mimetype": "text/x-python",
   "name": "python",
   "nbconvert_exporter": "python",
   "pygments_lexer": "ipython3",
   "version": "3.7.2"
  },
  "varInspector": {
   "cols": {
    "lenName": 16,
    "lenType": 16,
    "lenVar": 40
   },
   "kernels_config": {
    "python": {
     "delete_cmd_postfix": "",
     "delete_cmd_prefix": "del ",
     "library": "var_list.py",
     "varRefreshCmd": "print(var_dic_list())"
    },
    "r": {
     "delete_cmd_postfix": ") ",
     "delete_cmd_prefix": "rm(",
     "library": "var_list.r",
     "varRefreshCmd": "cat(var_dic_list()) "
    }
   },
   "types_to_exclude": [
    "module",
    "function",
    "builtin_function_or_method",
    "instance",
    "_Feature"
   ],
   "window_display": false
  }
 },
 "nbformat": 4,
 "nbformat_minor": 2
}
