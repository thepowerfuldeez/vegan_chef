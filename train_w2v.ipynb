{
 "cells": [
  {
   "cell_type": "code",
   "execution_count": 31,
   "metadata": {},
   "outputs": [],
   "source": [
    "from config import VK_TOKEN\n",
    "\n",
    "import tqdm\n",
    "import json\n",
    "import vk_api\n",
    "import re\n",
    "import pathlib"
   ]
  },
  {
   "cell_type": "code",
   "execution_count": 32,
   "metadata": {},
   "outputs": [],
   "source": [
    "vk_session = vk_api.VkApi(token=VK_TOKEN, app_id=5820017)\n",
    "vk_session._auth_token()\n",
    "\n",
    "vk = vk_session.get_api()"
   ]
  },
  {
   "cell_type": "code",
   "execution_count": 33,
   "metadata": {},
   "outputs": [],
   "source": [
    "tools = vk_api.VkTools(vk_session)"
   ]
  },
  {
   "cell_type": "code",
   "execution_count": 34,
   "metadata": {},
   "outputs": [],
   "source": [
    "recipes_publics = [-35838585, -43818640, -27740785]"
   ]
  },
  {
   "cell_type": "code",
   "execution_count": 35,
   "metadata": {},
   "outputs": [],
   "source": [
    "a=\"\"\"\n",
    "https://vk.com/gotovka_vk\n",
    "https://vk.com/ynutrition\n",
    "https://vk.com/club162591681\n",
    "https://vk.com/ffrecept\n",
    "https://vk.com/club136830288\n",
    "https://vk.com/kolbasinafood\n",
    "https://vk.com/club57331279\n",
    "https://vk.com/techno.food\n",
    "https://vk.com/receptboga\n",
    "https://vk.com/vkusniashkadoma\n",
    "https://vk.com/o4en_vkusno\n",
    "https://vk.com/tastlife\n",
    "https://vk.com/vegvkysnyashki\n",
    "https://vk.com/prostogotov\n",
    "https://vk.com/sekreti_krasoty\n",
    "https://vk.com/koolinar_ru\n",
    "https://vk.com/vkusnirecepty\n",
    "https://vk.com/ladyhozyaika\n",
    "https://vk.com/art.cookery\n",
    "https://vk.com/public94098607\n",
    "https://vk.com/xpywa\n",
    "https://vk.com/public906090\n",
    "https://vk.com/vk__cook\n",
    "https://vk.com/povarenokru\n",
    "\"\"\"\n",
    "possible_recipes_publics = [-x['id'] for x in vk.groups.getById(group_ids=[b.rsplit(\"/\")[-1] for b in a.split(\"\\n\")[1:-1]])]"
   ]
  },
  {
   "cell_type": "code",
   "execution_count": 36,
   "metadata": {},
   "outputs": [],
   "source": [
    "path = pathlib.Path(\"/home/george/workspace/data/vegan_chef\")"
   ]
  },
  {
   "cell_type": "code",
   "execution_count": 37,
   "metadata": {},
   "outputs": [
    {
     "name": "stderr",
     "output_type": "stream",
     "text": [
      " 27%|██▋       | 6/22 [00:04<00:11,  1.44it/s]"
     ]
    },
    {
     "name": "stdout",
     "output_type": "stream",
     "text": [
      "-103547324 public_id is broken\n"
     ]
    },
    {
     "name": "stderr",
     "output_type": "stream",
     "text": [
      "\r",
      " 32%|███▏      | 7/22 [00:29<02:00,  8.05s/it]"
     ]
    },
    {
     "name": "stdout",
     "output_type": "stream",
     "text": [
      "-57331279 public_id is broken\n"
     ]
    },
    {
     "name": "stderr",
     "output_type": "stream",
     "text": [
      "\r",
      " 36%|███▋      | 8/22 [00:32<01:33,  6.71s/it]"
     ]
    },
    {
     "name": "stdout",
     "output_type": "stream",
     "text": [
      "-74721551 public_id is broken\n"
     ]
    },
    {
     "name": "stderr",
     "output_type": "stream",
     "text": [
      "\r",
      " 41%|████      | 9/22 [00:37<01:20,  6.19s/it]"
     ]
    },
    {
     "name": "stdout",
     "output_type": "stream",
     "text": [
      "-116541181 public_id is broken\n"
     ]
    },
    {
     "name": "stderr",
     "output_type": "stream",
     "text": [
      "\r",
      " 45%|████▌     | 10/22 [00:56<01:57,  9.79s/it]"
     ]
    },
    {
     "name": "stdout",
     "output_type": "stream",
     "text": [
      "-139621917 public_id is broken\n"
     ]
    },
    {
     "name": "stderr",
     "output_type": "stream",
     "text": [
      "\r",
      " 50%|█████     | 11/22 [01:01<01:31,  8.33s/it]"
     ]
    },
    {
     "name": "stdout",
     "output_type": "stream",
     "text": [
      "-34541157 public_id is broken\n"
     ]
    },
    {
     "name": "stderr",
     "output_type": "stream",
     "text": [
      "\r",
      " 55%|█████▍    | 12/22 [01:15<01:41, 10.12s/it]"
     ]
    },
    {
     "name": "stdout",
     "output_type": "stream",
     "text": [
      "-120472637 public_id is broken\n"
     ]
    },
    {
     "name": "stderr",
     "output_type": "stream",
     "text": [
      " 68%|██████▊   | 15/22 [01:25<00:55,  7.89s/it]"
     ]
    },
    {
     "name": "stdout",
     "output_type": "stream",
     "text": [
      "-35607623 public_id is broken\n"
     ]
    },
    {
     "name": "stderr",
     "output_type": "stream",
     "text": [
      " 77%|███████▋  | 17/22 [03:00<02:24, 28.96s/it]"
     ]
    },
    {
     "name": "stdout",
     "output_type": "stream",
     "text": [
      "-61879718 public_id is broken\n"
     ]
    },
    {
     "name": "stderr",
     "output_type": "stream",
     "text": [
      "\r",
      " 82%|████████▏ | 18/22 [03:25<01:51, 27.90s/it]"
     ]
    },
    {
     "name": "stdout",
     "output_type": "stream",
     "text": [
      "-145244554 public_id is broken\n"
     ]
    },
    {
     "name": "stderr",
     "output_type": "stream",
     "text": [
      "\r",
      " 86%|████████▋ | 19/22 [03:30<01:02, 20.94s/it]"
     ]
    },
    {
     "name": "stdout",
     "output_type": "stream",
     "text": [
      "-39051301 public_id is broken\n"
     ]
    },
    {
     "name": "stderr",
     "output_type": "stream",
     "text": [
      "\r",
      " 91%|█████████ | 20/22 [03:53<00:43, 21.54s/it]"
     ]
    },
    {
     "name": "stdout",
     "output_type": "stream",
     "text": [
      "-101431498 public_id is broken\n"
     ]
    },
    {
     "name": "stderr",
     "output_type": "stream",
     "text": [
      "\r",
      " 95%|█████████▌| 21/22 [04:28<00:25, 25.65s/it]"
     ]
    },
    {
     "name": "stdout",
     "output_type": "stream",
     "text": [
      "-49694199 public_id is broken\n"
     ]
    },
    {
     "name": "stderr",
     "output_type": "stream",
     "text": [
      "100%|██████████| 22/22 [05:16<00:00, 32.40s/it]\n"
     ]
    }
   ],
   "source": [
    "for public_id in tqdm.tqdm(possible_recipes_publics):\n",
    "    file = (path/f\"publics/{public_id}.json\")\n",
    "    if not file.exists():\n",
    "        try:\n",
    "            all_recipes = tools.get_all(\"wall.get\", 80, values={\"owner_id\": public_id})\n",
    "            json.dump(all_recipes, file.open(\"w\"))\n",
    "        except vk_api.VkToolsException:\n",
    "            print(f\"{public_id} public_id is broken\")"
   ]
  },
  {
   "cell_type": "code",
   "execution_count": 38,
   "metadata": {},
   "outputs": [
    {
     "name": "stderr",
     "output_type": "stream",
     "text": [
      "100%|██████████| 25/25 [00:10<00:00,  2.52it/s]\n"
     ]
    }
   ],
   "source": [
    "with open(\"/home/george/workspace/data/vegan_chef/all_text.txt\", \"w\") as f:\n",
    "    for public_id in tqdm.tqdm(recipes_publics + possible_recipes_publics):\n",
    "        file = path/f\"publics/{public_id}.json\"\n",
    "        if file.exists():\n",
    "            all_recipes = json.load(file.open())\n",
    "            for item in all_recipes['items']:\n",
    "                matched = re.match(\"[а-яА-Я ]+\", item['text'].lower())\n",
    "                if matched:\n",
    "                    print(matched.group(), file=f)"
   ]
  },
  {
   "cell_type": "code",
   "execution_count": 39,
   "metadata": {},
   "outputs": [],
   "source": [
    "import sentencepiece as spm"
   ]
  },
  {
   "cell_type": "code",
   "execution_count": 40,
   "metadata": {},
   "outputs": [
    {
     "data": {
      "text/plain": [
       "True"
      ]
     },
     "execution_count": 40,
     "metadata": {},
     "output_type": "execute_result"
    }
   ],
   "source": [
    "spm.SentencePieceTrainer.Train(f\"--input={path/'all_text.txt'} --model_prefix=m --vocab_size=1000\")"
   ]
  },
  {
   "cell_type": "code",
   "execution_count": 41,
   "metadata": {},
   "outputs": [],
   "source": [
    "!mv m.model assets/\n",
    "!mv m.vocab assets/"
   ]
  },
  {
   "cell_type": "code",
   "execution_count": 42,
   "metadata": {},
   "outputs": [
    {
     "data": {
      "text/plain": [
       "True"
      ]
     },
     "execution_count": 42,
     "metadata": {},
     "output_type": "execute_result"
    }
   ],
   "source": [
    "sp = spm.SentencePieceProcessor()\n",
    "sp.Load(\"assets/m.model\")"
   ]
  },
  {
   "cell_type": "code",
   "execution_count": 43,
   "metadata": {},
   "outputs": [],
   "source": [
    "tokens = [a.split(\"\\t\")[0] for a in (pathlib.Path(\"assets\")/\"m.vocab\").read_text().split(\"\\n\")]"
   ]
  },
  {
   "cell_type": "code",
   "execution_count": 44,
   "metadata": {},
   "outputs": [],
   "source": [
    "class PublicsIterator:\n",
    "    def __init__(self, public_paths):\n",
    "        self.public_paths = public_paths\n",
    "    def __iter__(self):\n",
    "        for public_path in self.public_paths:\n",
    "            all_recipes = json.load(public_path.open())\n",
    "            for recipe in all_recipes['items']:\n",
    "                yield [\"<s>\"] + [tokens[idx] for idx in sp.EncodeAsIds(recipe['text'].lower())] + [\"</s>\"]"
   ]
  },
  {
   "cell_type": "code",
   "execution_count": 45,
   "metadata": {},
   "outputs": [],
   "source": [
    "from gensim.models import Word2Vec"
   ]
  },
  {
   "cell_type": "code",
   "execution_count": 47,
   "metadata": {},
   "outputs": [],
   "source": [
    "model = Word2Vec(\n",
    "    PublicsIterator([path/f\"publics/{public_id}.json\" for public_id in recipes_publics]),\n",
    "    size=64,\n",
    "    min_count=2,\n",
    "    negative=3,\n",
    "    iter=10,\n",
    "    workers=-1\n",
    ")"
   ]
  },
  {
   "cell_type": "code",
   "execution_count": 48,
   "metadata": {},
   "outputs": [],
   "source": [
    "tokens = tokens[:-1]"
   ]
  },
  {
   "cell_type": "code",
   "execution_count": 49,
   "metadata": {},
   "outputs": [],
   "source": [
    "w2v_tokens = list(model.wv.vocab)"
   ]
  },
  {
   "cell_type": "code",
   "execution_count": 50,
   "metadata": {},
   "outputs": [
    {
     "data": {
      "text/plain": [
       "983"
      ]
     },
     "execution_count": 50,
     "metadata": {},
     "output_type": "execute_result"
    }
   ],
   "source": [
    "len(w2v_tokens)"
   ]
  },
  {
   "cell_type": "code",
   "execution_count": 51,
   "metadata": {},
   "outputs": [
    {
     "data": {
      "text/plain": [
       "{'▁беконом',\n",
       " '▁ветчиной',\n",
       " '▁горбуша',\n",
       " '▁грудки',\n",
       " '▁индейки',\n",
       " '▁кальмар',\n",
       " '▁креветками',\n",
       " '▁крылышки',\n",
       " '▁куриная',\n",
       " '▁куриным',\n",
       " '▁курицей',\n",
       " '▁курочка',\n",
       " '▁лосось',\n",
       " '▁отбивные',\n",
       " '▁сельдь',\n",
       " '▁скумбрия',\n",
       " '▁тунцом'}"
      ]
     },
     "execution_count": 51,
     "metadata": {},
     "output_type": "execute_result"
    }
   ],
   "source": [
    "set(tokens).difference(set(w2v_tokens))"
   ]
  },
  {
   "cell_type": "code",
   "execution_count": 52,
   "metadata": {},
   "outputs": [],
   "source": [
    "w2v_tokens_set = set(w2v_tokens)"
   ]
  },
  {
   "cell_type": "code",
   "execution_count": 53,
   "metadata": {},
   "outputs": [],
   "source": [
    "matched_w2v_vectors = model.wv.vectors[[w2v_tokens.index(tok) for tok in tokens if tok in w2v_tokens_set]]"
   ]
  },
  {
   "cell_type": "code",
   "execution_count": 54,
   "metadata": {},
   "outputs": [
    {
     "data": {
      "text/plain": [
       "array([ 0.00302968, -0.00091405, -0.00244807, -0.00230492, -0.00231656,\n",
       "        0.00315632,  0.00073344, -0.00095295,  0.00172484,  0.00072071,\n",
       "       -0.00076808,  0.00028419,  0.00337978,  0.00579838,  0.00322273,\n",
       "        0.00111731,  0.00146784, -0.00183582,  0.00022545,  0.00270499,\n",
       "        0.00026739,  0.00197104,  0.00139249,  0.00089627,  0.00041021,\n",
       "       -0.0014714 ,  0.0032349 , -0.00246451, -0.00552011, -0.00055513,\n",
       "        0.00164683, -0.00168711, -0.00219946,  0.00047899,  0.00198559,\n",
       "        0.00128617,  0.00359842, -0.00459012,  0.00059059, -0.00342426,\n",
       "        0.0007134 ,  0.00151454,  0.00016948,  0.00107435, -0.00083409,\n",
       "       -0.00329718, -0.00070181, -0.0034659 ,  0.00169605, -0.00542269,\n",
       "       -0.00046429, -0.00021056, -0.00339388,  0.00084661,  0.00435095,\n",
       "       -0.00331703,  0.00125334,  0.00026163,  0.00100691,  0.00115508,\n",
       "       -0.00081912,  0.00113951, -0.00161742, -0.0013855 ], dtype=float32)"
      ]
     },
     "execution_count": 54,
     "metadata": {},
     "output_type": "execute_result"
    }
   ],
   "source": [
    "matched_w2v_vectors[sp.EncodeAsIds(\"блинчики с вареньем\")].mean(0)"
   ]
  },
  {
   "cell_type": "code",
   "execution_count": 55,
   "metadata": {},
   "outputs": [],
   "source": [
    "vec1 = matched_w2v_vectors[sp.EncodeAsIds(\"блинчики с вареньем\")].mean(0)\n",
    "vec2 = matched_w2v_vectors[sp.EncodeAsIds(\"блины с джемом\")].mean(0)\n",
    "vec3 = matched_w2v_vectors[sp.EncodeAsIds(\"капуста с тофу\")].mean(0)"
   ]
  },
  {
   "cell_type": "code",
   "execution_count": 56,
   "metadata": {},
   "outputs": [],
   "source": [
    "from scipy.spatial.distance import cosine"
   ]
  },
  {
   "cell_type": "code",
   "execution_count": 57,
   "metadata": {},
   "outputs": [
    {
     "data": {
      "text/plain": [
       "(0.1698303520679474, 0.35895785689353943)"
      ]
     },
     "execution_count": 57,
     "metadata": {},
     "output_type": "execute_result"
    }
   ],
   "source": [
    "1 - cosine(vec1, vec2), 1 - cosine(vec1, vec3)"
   ]
  },
  {
   "cell_type": "code",
   "execution_count": 58,
   "metadata": {},
   "outputs": [],
   "source": [
    "def compare_ingredients(ingr1, ingr2, matched_w2v_vectors, sp):\n",
    "    vec1 = matched_w2v_vectors[sp.EncodeAsIds(ingr1)].mean(0)\n",
    "    vec2 = matched_w2v_vectors[sp.EncodeAsIds(ingr2)].mean(0)\n",
    "    return 1 - cosine(vec1, vec2)"
   ]
  },
  {
   "cell_type": "code",
   "execution_count": 59,
   "metadata": {},
   "outputs": [],
   "source": [
    "import numpy as np\n",
    "np.save(\"assets/matched_w2v_vectors.npy\", matched_w2v_vectors)"
   ]
  },
  {
   "cell_type": "code",
   "execution_count": null,
   "metadata": {},
   "outputs": [],
   "source": []
  }
 ],
 "metadata": {
  "kernelspec": {
   "display_name": "Python 3",
   "language": "python",
   "name": "python3"
  },
  "language_info": {
   "codemirror_mode": {
    "name": "ipython",
    "version": 3
   },
   "file_extension": ".py",
   "mimetype": "text/x-python",
   "name": "python",
   "nbconvert_exporter": "python",
   "pygments_lexer": "ipython3",
   "version": "3.7.2"
  }
 },
 "nbformat": 4,
 "nbformat_minor": 2
}
