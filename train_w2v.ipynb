{
 "cells": [
  {
   "cell_type": "code",
   "execution_count": 1,
   "metadata": {},
   "outputs": [],
   "source": [
    "from config import VK_TOKEN\n",
    "\n",
    "import tqdm\n",
    "import json\n",
    "import vk_api\n",
    "import re\n",
    "import pathlib"
   ]
  },
  {
   "cell_type": "code",
   "execution_count": 2,
   "metadata": {},
   "outputs": [],
   "source": [
    "vk_session = vk_api.VkApi(token=VK_TOKEN, app_id=5820017)\n",
    "vk_session._auth_token()\n",
    "\n",
    "vk = vk_session.get_api()"
   ]
  },
  {
   "cell_type": "code",
   "execution_count": 3,
   "metadata": {},
   "outputs": [],
   "source": [
    "tools = vk_api.VkTools(vk_session)"
   ]
  },
  {
   "cell_type": "code",
   "execution_count": 4,
   "metadata": {},
   "outputs": [],
   "source": [
    "recipes_publics = [-35838585, -43818640, -27740785]"
   ]
  },
  {
   "cell_type": "code",
   "execution_count": 5,
   "metadata": {},
   "outputs": [],
   "source": [
    "path = pathlib.Path(\"/home/george/workspace/data/vegan_chef\")"
   ]
  },
  {
   "cell_type": "code",
   "execution_count": 7,
   "metadata": {},
   "outputs": [
    {
     "name": "stderr",
     "output_type": "stream",
     "text": [
      "100%|██████████| 3/3 [01:44<00:00, 32.65s/it]\n"
     ]
    }
   ],
   "source": [
    "for public_id in tqdm.tqdm(recipes_publics):\n",
    "    all_recipes = tools.get_all(\"wall.get\", 80, values={\"owner_id\": public_id})\n",
    "    json.dump(all_recipes, (path/f\"publics/{public_id}.json\").open(\"w\"))"
   ]
  },
  {
   "cell_type": "code",
   "execution_count": 117,
   "metadata": {},
   "outputs": [
    {
     "name": "stderr",
     "output_type": "stream",
     "text": [
      "100%|██████████| 3/3 [00:03<00:00,  1.04s/it]\n"
     ]
    }
   ],
   "source": [
    "with open(\"/home/george/workspace/data/vegan_chef/all_text.txt\", \"w\") as f:\n",
    "    for public_id in tqdm.tqdm(recipes_publics):\n",
    "        all_recipes = json.load((path/f\"publics/{public_id}.json\").open())\n",
    "        for item in all_recipes['items']:\n",
    "            matched = re.match(\"[а-яА-Я ]+\", item['text'].lower())\n",
    "            if matched:\n",
    "                print(matched.group(), file=f)"
   ]
  },
  {
   "cell_type": "code",
   "execution_count": 7,
   "metadata": {},
   "outputs": [],
   "source": [
    "import sentencepiece as spm"
   ]
  },
  {
   "cell_type": "code",
   "execution_count": 119,
   "metadata": {},
   "outputs": [
    {
     "data": {
      "text/plain": [
       "True"
      ]
     },
     "execution_count": 119,
     "metadata": {},
     "output_type": "execute_result"
    }
   ],
   "source": [
    "spm.SentencePieceTrainer.Train(f\"--input={path/'all_text.txt'} --model_prefix=m --vocab_size=1000\")"
   ]
  },
  {
   "cell_type": "code",
   "execution_count": 120,
   "metadata": {},
   "outputs": [],
   "source": [
    "!mv m.model assets/\n",
    "!mv m.vocab assets/"
   ]
  },
  {
   "cell_type": "code",
   "execution_count": 8,
   "metadata": {},
   "outputs": [
    {
     "data": {
      "text/plain": [
       "True"
      ]
     },
     "execution_count": 8,
     "metadata": {},
     "output_type": "execute_result"
    }
   ],
   "source": [
    "sp = spm.SentencePieceProcessor()\n",
    "sp.Load(\"assets/m.model\")"
   ]
  },
  {
   "cell_type": "code",
   "execution_count": 9,
   "metadata": {},
   "outputs": [],
   "source": [
    "tokens = [a.split(\"\\t\")[0] for a in (pathlib.Path(\"assets\")/\"m.vocab\").read_text().split(\"\\n\")]"
   ]
  },
  {
   "cell_type": "code",
   "execution_count": 10,
   "metadata": {},
   "outputs": [],
   "source": [
    "class PublicsIterator:\n",
    "    def __init__(self, public_paths):\n",
    "        self.public_paths = public_paths\n",
    "    def __iter__(self):\n",
    "        for public_path in self.public_paths:\n",
    "            all_recipes = json.load(public_path.open())\n",
    "            for recipe in all_recipes['items']:\n",
    "                yield [\"<s>\"] + [tokens[idx] for idx in sp.EncodeAsIds(recipe['text'].lower())] + [\"</s>\"]"
   ]
  },
  {
   "cell_type": "code",
   "execution_count": 11,
   "metadata": {},
   "outputs": [],
   "source": [
    "from gensim.models import Word2Vec"
   ]
  },
  {
   "cell_type": "code",
   "execution_count": 12,
   "metadata": {},
   "outputs": [],
   "source": [
    "model = Word2Vec(\n",
    "    PublicsIterator([path/f\"publics/{public_id}.json\" for public_id in recipes_publics]),\n",
    "    size=64,\n",
    "    min_count=2,\n",
    "    negative=3,\n",
    "    iter=10,\n",
    "    workers=-1\n",
    ")"
   ]
  },
  {
   "cell_type": "code",
   "execution_count": 13,
   "metadata": {},
   "outputs": [],
   "source": [
    "tokens = tokens[:-1]"
   ]
  },
  {
   "cell_type": "code",
   "execution_count": 14,
   "metadata": {},
   "outputs": [],
   "source": [
    "w2v_tokens = list(model.wv.vocab)"
   ]
  },
  {
   "cell_type": "code",
   "execution_count": 15,
   "metadata": {},
   "outputs": [
    {
     "data": {
      "text/plain": [
       "1000"
      ]
     },
     "execution_count": 15,
     "metadata": {},
     "output_type": "execute_result"
    }
   ],
   "source": [
    "len(w2v_tokens)"
   ]
  },
  {
   "cell_type": "code",
   "execution_count": 16,
   "metadata": {},
   "outputs": [
    {
     "data": {
      "text/plain": [
       "set()"
      ]
     },
     "execution_count": 16,
     "metadata": {},
     "output_type": "execute_result"
    }
   ],
   "source": [
    "set(tokens).difference(set(w2v_tokens))"
   ]
  },
  {
   "cell_type": "code",
   "execution_count": 19,
   "metadata": {},
   "outputs": [],
   "source": [
    "matched_w2v_vectors = model.wv.vectors[[w2v_tokens.index(tok) for tok in tokens]]"
   ]
  },
  {
   "cell_type": "code",
   "execution_count": 43,
   "metadata": {},
   "outputs": [
    {
     "data": {
      "text/plain": [
       "array([-8.7163318e-04,  2.3241742e-03, -3.0582023e-03,  1.0804716e-03,\n",
       "       -3.7886046e-03,  3.1761844e-03, -4.2146255e-04,  7.4962183e-04,\n",
       "        2.6627318e-03,  3.3055150e-03,  1.2516363e-03,  6.4906658e-04,\n",
       "        4.1361628e-03, -2.2773072e-03, -2.8003387e-03,  3.0769624e-03,\n",
       "       -1.6833334e-03, -3.5099522e-04,  1.4955821e-03, -2.9971958e-03,\n",
       "        1.3834680e-04,  4.2369934e-03, -1.0883913e-03,  5.2044215e-04,\n",
       "       -1.6529947e-03,  1.3119113e-03, -1.6971199e-03,  1.4646619e-03,\n",
       "        2.9651696e-04,  1.1172984e-03,  1.1414266e-03,  1.6686590e-03,\n",
       "        7.7394396e-04, -1.1305993e-03,  1.1879136e-05, -1.9767224e-03,\n",
       "       -9.4394083e-04, -3.0657961e-03, -3.0995342e-03, -1.5884381e-03,\n",
       "        5.0404500e-03, -2.4668998e-03,  2.9501761e-03,  1.5034506e-03,\n",
       "        1.8930326e-03, -3.8315454e-03,  4.9679317e-03, -1.3614419e-03,\n",
       "        1.4626341e-03, -2.2063553e-03,  1.0474450e-03, -2.7723976e-03,\n",
       "        1.7444810e-03, -5.9158012e-04, -3.3226744e-03,  1.2464928e-03,\n",
       "        3.5737199e-04,  1.4938687e-03, -1.7979696e-03,  2.1132552e-03,\n",
       "        6.6873035e-04,  3.5429251e-04, -3.8657770e-03,  1.6960420e-03],\n",
       "      dtype=float32)"
      ]
     },
     "execution_count": 43,
     "metadata": {},
     "output_type": "execute_result"
    }
   ],
   "source": [
    "matched_w2v_vectors[sp.EncodeAsIds(\"блинчики с вареньем\")].mean(0)"
   ]
  },
  {
   "cell_type": "code",
   "execution_count": 60,
   "metadata": {},
   "outputs": [],
   "source": [
    "vec1 = matched_w2v_vectors[sp.EncodeAsIds(\"блинчики с вареньем\")].mean(0)\n",
    "vec2 = matched_w2v_vectors[sp.EncodeAsIds(\"блины с джемом\")].mean(0)\n",
    "vec3 = matched_w2v_vectors[sp.EncodeAsIds(\"капуста с тофу\")].mean(0)"
   ]
  },
  {
   "cell_type": "code",
   "execution_count": 58,
   "metadata": {},
   "outputs": [],
   "source": [
    "from scipy.spatial.distance import cosine"
   ]
  },
  {
   "cell_type": "code",
   "execution_count": 61,
   "metadata": {},
   "outputs": [
    {
     "data": {
      "text/plain": [
       "(0.3453354239463806, 0.10821899026632309)"
      ]
     },
     "execution_count": 61,
     "metadata": {},
     "output_type": "execute_result"
    }
   ],
   "source": [
    "1 - cosine(vec1, vec2), 1 - cosine(vec1, vec3)"
   ]
  },
  {
   "cell_type": "code",
   "execution_count": 62,
   "metadata": {},
   "outputs": [],
   "source": [
    "def compare_ingredients(ingr1, ingr2, matched_w2v_vectors, sp):\n",
    "    vec1 = matched_w2v_vectors[sp.EncodeAsIds(ingr1)].mean(0)\n",
    "    vec2 = matched_w2v_vectors[sp.EncodeAsIds(ingr2)].mean(0)\n",
    "    return 1 - cosine(vec1, vec2)"
   ]
  },
  {
   "cell_type": "code",
   "execution_count": 27,
   "metadata": {},
   "outputs": [],
   "source": [
    "import numpy as np\n",
    "np.save(\"assets/matched_w2v_vectors.npy\", matched_w2v_vectors)"
   ]
  },
  {
   "cell_type": "code",
   "execution_count": null,
   "metadata": {},
   "outputs": [],
   "source": []
  }
 ],
 "metadata": {
  "kernelspec": {
   "display_name": "Python 3",
   "language": "python",
   "name": "python3"
  },
  "language_info": {
   "codemirror_mode": {
    "name": "ipython",
    "version": 3
   },
   "file_extension": ".py",
   "mimetype": "text/x-python",
   "name": "python",
   "nbconvert_exporter": "python",
   "pygments_lexer": "ipython3",
   "version": "3.7.2"
  }
 },
 "nbformat": 4,
 "nbformat_minor": 2
}
